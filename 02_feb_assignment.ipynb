{
 "cells": [
  {
   "cell_type": "markdown",
   "id": "0cb1ee44-79ca-43db-83f4-0cc265023c6d",
   "metadata": {},
   "source": [
    "### Question 1"
   ]
  },
  {
   "cell_type": "markdown",
   "id": "0fb52205-1d92-4820-89a7-9ed2cfc4e475",
   "metadata": {},
   "source": [
    "For loop- For loop is used when we know the exact number of iterations we want to perform. It is commonly used when iterating over a collection of elements, such as an array or a list."
   ]
  },
  {
   "cell_type": "code",
   "execution_count": null,
   "id": "5db7a735-b549-449a-8860-cf4ab33d1e6e",
   "metadata": {},
   "outputs": [],
   "source": [
    "## code\n",
    "\n",
    "fruits = [\"apple\", \"banana\", \"orange\", \"mango\"]\n",
    "\n",
    "for fruit in fruits:\n",
    "    print(fruit)"
   ]
  },
  {
   "cell_type": "markdown",
   "id": "ea43ffea-9e1c-4110-ac5f-834a1778f8e6",
   "metadata": {},
   "source": [
    "While loop- While loop is used when we didn't know the number of iteration we want to perform.A while loop is used when you want to repeat a block of code until a certain condition becomes false. The loop continues as long as the condition remains true."
   ]
  },
  {
   "cell_type": "code",
   "execution_count": null,
   "id": "e11c7538-a1fe-4660-b568-e1c8c25128d1",
   "metadata": {},
   "outputs": [],
   "source": [
    "## code\n",
    "\n",
    "count = 10\n",
    "\n",
    "while count > 0:\n",
    "    print(count)\n",
    "    count -= 1"
   ]
  },
  {
   "cell_type": "markdown",
   "id": "8b9c4e6f-df6d-4d17-b08d-e66367eff654",
   "metadata": {},
   "source": [
    "### Question 2"
   ]
  },
  {
   "cell_type": "code",
   "execution_count": null,
   "id": "dea64cdd-8929-4e43-b8f0-69e47942d577",
   "metadata": {},
   "outputs": [],
   "source": [
    "##the sum and product of the first 10 natural numbers using for loop\n",
    "\n",
    "# Using a for loop to calculate the sum and product\n",
    "numbers = range(1, 11)\n",
    "sum_result = 0\n",
    "product_result = 1\n",
    "\n",
    "for num in numbers:\n",
    "    sum_result += num\n",
    "    product_result *= num\n",
    "\n",
    "print(\"Sum:\", sum_result)\n",
    "print(\"Product:\", product_result)\n",
    "\n",
    "##the sum and product of the first 10 natural numbers using while loop\n",
    "\n",
    "# Using a while loop to calculate the sum and product\n",
    "count = 1\n",
    "sum_result = 0\n",
    "product_result = 1\n",
    "\n",
    "while count <= 10:\n",
    "    sum_result += count\n",
    "    product_result *= count\n",
    "    count += 1\n",
    "\n",
    "print(\"Sum:\", sum_result)\n",
    "print(\"Product:\", product_result)\n",
    "\n"
   ]
  },
  {
   "cell_type": "markdown",
   "id": "fdb9de9e-14a8-4fdd-ad9c-4d99ced1db3e",
   "metadata": {},
   "source": [
    "### Question 3"
   ]
  },
  {
   "cell_type": "code",
   "execution_count": 5,
   "id": "2c520166-6202-429f-8c2e-30e5d5b578b9",
   "metadata": {},
   "outputs": [
    {
     "name": "stdin",
     "output_type": "stream",
     "text": [
      "enter your unit 310\n"
     ]
    },
    {
     "name": "stdout",
     "output_type": "stream",
     "text": [
      "your electricity bill is Rs. 2250.0\n"
     ]
    }
   ],
   "source": [
    "units= int(input(\"enter your unit\"))\n",
    "\n",
    "if units <=100:\n",
    "    bill = 100*4.5\n",
    "elif units <=200:\n",
    "    bill = 100*4.5 + (units - 100) *6\n",
    "elif units <=300:\n",
    "    bill = 100*4.5 + 100*6 + (units - 200) *10\n",
    "else:\n",
    "    bill = 100*4.5 + 100*6 + 100*10 + (units -300) *20\n",
    "    \n",
    "print (\"your electricity bill is Rs.\" , bill)\n",
    "    \n",
    "    \n",
    "   \n",
    "    \n",
    "          "
   ]
  },
  {
   "cell_type": "markdown",
   "id": "0a228981-1e7d-4890-bd73-a3693ce9cd84",
   "metadata": {},
   "source": [
    "### Question 4"
   ]
  },
  {
   "cell_type": "code",
   "execution_count": 7,
   "id": "8039197b-3d55-494e-90cb-a2d8b3ca949f",
   "metadata": {},
   "outputs": [
    {
     "name": "stdout",
     "output_type": "stream",
     "text": [
      "[2, 4, 5, 6, 8, 10, 12, 14, 15, 16, 18, 20, 22, 24, 25, 26, 28, 30, 32, 34, 35, 36, 38, 40, 42, 44, 45, 46, 48, 50, 52, 54, 55, 56, 58, 60, 62, 64, 65, 66, 68, 70, 72, 74, 75, 76, 78, 80, 82, 84, 85, 86, 88, 90, 92, 94, 95, 96, 98, 100]\n"
     ]
    }
   ],
   "source": [
    "# using for loop\n",
    "\n",
    "result=[]\n",
    "\n",
    "for i in range (1,101):\n",
    "    cube = i**3\n",
    "    if cube%4==0 or cube % 5 ==0:\n",
    "        result.append(i)\n",
    "print(result)\n",
    "\n",
    "    "
   ]
  },
  {
   "cell_type": "code",
   "execution_count": 2,
   "id": "8218414f-2fb1-49f6-b6b5-6dd56a206836",
   "metadata": {},
   "outputs": [
    {
     "name": "stdout",
     "output_type": "stream",
     "text": [
      "[2, 4, 5, 6, 8, 10, 12, 14, 15, 16, 18, 20, 22, 24, 25, 26, 28, 30, 32, 34, 35, 36, 38, 40, 42, 44, 45, 46, 48, 50, 52, 54, 55, 56, 58, 60, 62, 64, 65, 66, 68, 70, 72, 74, 75, 76, 78, 80, 82, 84, 85, 86, 88, 90, 92, 94, 95, 96, 98, 100]\n"
     ]
    }
   ],
   "source": [
    "# Using a while loop\n",
    "result = []\n",
    "i = 1\n",
    "while i <= 100:\n",
    "    cube = i**3\n",
    "    if cube % 4 == 0 or cube % 5 == 0:\n",
    "        result.append(i)\n",
    "    i += 1\n",
    "\n",
    "print(result)"
   ]
  },
  {
   "cell_type": "markdown",
   "id": "184e59c1-5c7d-44ce-9083-e125f0e321cf",
   "metadata": {},
   "source": [
    "### Question 5"
   ]
  },
  {
   "cell_type": "code",
   "execution_count": 3,
   "id": "64442e6c-941c-4027-9302-dd54d469954e",
   "metadata": {},
   "outputs": [
    {
     "name": "stdout",
     "output_type": "stream",
     "text": [
      "Number of vowels: 12\n"
     ]
    }
   ],
   "source": [
    "string = \"I want to become a data scientist\"\n",
    "\n",
    "# Convert the string to lowercase for case-insensitive matching\n",
    "string = string.lower()\n",
    "\n",
    "vowels = ['a', 'e', 'i', 'o', 'u']\n",
    "vowel_count = 0\n",
    "\n",
    "for char in string:\n",
    "    if char in vowels:\n",
    "        vowel_count += 1\n",
    "\n",
    "print(\"Number of vowels:\", vowel_count)\n"
   ]
  },
  {
   "cell_type": "code",
   "execution_count": null,
   "id": "bb422dc0-6fcd-4465-b0f5-a90c4b9d6a06",
   "metadata": {},
   "outputs": [],
   "source": []
  }
 ],
 "metadata": {
  "kernelspec": {
   "display_name": "Python 3 (ipykernel)",
   "language": "python",
   "name": "python3"
  },
  "language_info": {
   "codemirror_mode": {
    "name": "ipython",
    "version": 3
   },
   "file_extension": ".py",
   "mimetype": "text/x-python",
   "name": "python",
   "nbconvert_exporter": "python",
   "pygments_lexer": "ipython3",
   "version": "3.10.8"
  }
 },
 "nbformat": 4,
 "nbformat_minor": 5
}
