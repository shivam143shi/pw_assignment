{
 "cells": [
  {
   "cell_type": "markdown",
   "id": "6ba0cf2d-e7b5-4e23-afd8-5e176b899d08",
   "metadata": {},
   "source": [
    "### Question 1"
   ]
  },
  {
   "cell_type": "code",
   "execution_count": null,
   "id": "1a94cce7-ebfe-42b8-88fa-f9a51ee93e0e",
   "metadata": {},
   "outputs": [],
   "source": [
    "marks= int(input(\"enter your marks obtained\"))\n",
    "if marks > 90:\n",
    "    print (\"Grade A\")\n",
    "elif marks <= 90 and marks > 80 :\n",
    "    print (\"Grade B\")\n",
    "elif marks >= 60 and marks <= 80 :\n",
    "    print (\"Grade C\")\n",
    "else :\n",
    "    print (\"Grade D\")\n"
   ]
  },
  {
   "cell_type": "markdown",
   "id": "77867f24-1be3-431d-b286-cce87d892137",
   "metadata": {},
   "source": [
    "### Question 2"
   ]
  },
  {
   "cell_type": "code",
   "execution_count": null,
   "id": "d762ef34-5138-4a5d-949e-ff7b0e409bf2",
   "metadata": {},
   "outputs": [],
   "source": [
    "CP = int(input(\"Please input the cost price of  bike : \"))\n",
    "x = 0\n",
    "if CP > 100000 :\n",
    "    x= 15/100 * CP\n",
    "    print(\" Tax will be 15 % = \" , x)\n",
    "elif CP >50000 and CP <=100000:\n",
    "    x= 10/100 * CP\n",
    "    print(\" Tax will be 10 % = \" , x)\n",
    "elif CP <= 50000:\n",
    "     x= 5/100 * CP\n",
    "    \n",
    "     print(\" Tax will be 5 % = \",x)\n",
    "\n",
    " \n",
    "         \n"
   ]
  },
  {
   "cell_type": "markdown",
   "id": "7976a9fe-20a6-4e4d-93de-6d15c89a2eac",
   "metadata": {},
   "source": [
    "### Question 3"
   ]
  },
  {
   "cell_type": "code",
   "execution_count": null,
   "id": "cc65f8f4-511d-4ca7-a5ab-e996c43c01fe",
   "metadata": {},
   "outputs": [],
   "source": [
    "city = input (\"Enter your desired city \")\n",
    "\n",
    "if city == \"Delhi\" :\n",
    "    print(\" Monument of Delhi - Red Fort \")\n",
    "elif city == \"Agra\" :\n",
    "    print(\"Monument of Agra - Taj Mahal\")\n",
    "elif city == \"Jaipur \" :\n",
    "    print(\"Monument of Jaipur - Jai Mahal\")\n",
    "else:\n",
    "\n",
    "    print(\"Enter a valid city\")\n"
   ]
  },
  {
   "cell_type": "markdown",
   "id": "98066640-7922-4d38-97ef-518d0da7fe4d",
   "metadata": {},
   "source": [
    "### Question 4"
   ]
  },
  {
   "cell_type": "code",
   "execution_count": 22,
   "id": "34ddd6fc-2cb2-4292-89cd-3bcf61850207",
   "metadata": {},
   "outputs": [
    {
     "name": "stdout",
     "output_type": "stream",
     "text": [
      "7\n"
     ]
    }
   ],
   "source": [
    "def check_divisible_by_3(n):\n",
    "    count = 0\n",
    "    while n > 10:\n",
    "        n = n / 3\n",
    "        count += 1\n",
    "    return count\n",
    "\n",
    "print(check_divisible_by_3(15550))"
   ]
  },
  {
   "cell_type": "markdown",
   "id": "8f237eba-2f46-4840-8100-2b65794b721e",
   "metadata": {},
   "source": [
    "### Question 5"
   ]
  },
  {
   "cell_type": "raw",
   "id": "cdd412cc-2e0e-4a3c-816d-d80dcb2f6dc9",
   "metadata": {},
   "source": [
    "We use while loop in python as long as the certain condition is true.  The loop will continue iterating as long as the condition remains true, and it will terminate as soon as the condition becomes false."
   ]
  },
  {
   "cell_type": "code",
   "execution_count": null,
   "id": "cb831fec-e0f5-42d3-a750-9a6f843bc4d3",
   "metadata": {},
   "outputs": [],
   "source": [
    "# Example of While loop\n",
    "\n",
    "count = 0\n",
    "while count < 5:\n",
    "    print(\"Count:\", count)\n",
    "    count += 1"
   ]
  },
  {
   "cell_type": "markdown",
   "id": "6eca2d99-230e-4377-8f21-a2b2f9ce1d57",
   "metadata": {},
   "source": [
    "### Question 6"
   ]
  },
  {
   "cell_type": "code",
   "execution_count": 1,
   "id": "6ce1fafd-9d50-4c7c-8da8-c170d13f5fd3",
   "metadata": {},
   "outputs": [
    {
     "name": "stdout",
     "output_type": "stream",
     "text": [
      "1\n",
      "12\n",
      "123\n",
      "1234\n",
      "12345\n"
     ]
    }
   ],
   "source": [
    "row = 1\n",
    "while row <= 5:\n",
    "    col = 1\n",
    "    while col <= row:\n",
    "        print(col, end='')\n",
    "        col += 1\n",
    "    print()\n",
    "    row += 1\n"
   ]
  },
  {
   "cell_type": "code",
   "execution_count": 2,
   "id": "55d72065-1f74-47e9-a73a-6d1dbde9a498",
   "metadata": {},
   "outputs": [
    {
     "name": "stdout",
     "output_type": "stream",
     "text": [
      "*****\n",
      "****\n",
      "***\n",
      "**\n",
      "*\n"
     ]
    }
   ],
   "source": [
    "row = 5\n",
    "while row >= 1:\n",
    "    col = 1\n",
    "    while col <= row:\n",
    "        print('*', end='')\n",
    "        col += 1\n",
    "    print()\n",
    "    row -= 1\n"
   ]
  },
  {
   "cell_type": "code",
   "execution_count": 3,
   "id": "b76067e3-a2a3-4963-8b38-61f944a42446",
   "metadata": {},
   "outputs": [
    {
     "name": "stdout",
     "output_type": "stream",
     "text": [
      "#########\n",
      " #######\n",
      "  #####\n",
      "   ###\n",
      "    #\n"
     ]
    }
   ],
   "source": [
    "row = 5\n",
    "while row >= 1:\n",
    "    space = 5 - row\n",
    "    while space > 0:\n",
    "        print(\" \", end=\"\")\n",
    "        space -= 1\n",
    "    col = 2 * row - 1\n",
    "    while col > 0:\n",
    "        print(\"#\", end=\"\")\n",
    "        col -= 1\n",
    "    print()\n",
    "    row -= 1\n"
   ]
  },
  {
   "cell_type": "markdown",
   "id": "3bebb86a-b2f6-4fc4-a3c3-558a09196cb0",
   "metadata": {},
   "source": [
    "### Question 7"
   ]
  },
  {
   "cell_type": "code",
   "execution_count": 11,
   "id": "a6d519db-0268-44d0-b90a-5501c370c4a1",
   "metadata": {},
   "outputs": [
    {
     "name": "stdout",
     "output_type": "stream",
     "text": [
      "10\n",
      "9\n",
      "8\n",
      "7\n",
      "6\n",
      "5\n",
      "4\n",
      "3\n",
      "2\n",
      "1\n"
     ]
    }
   ],
   "source": [
    "numbers =10\n",
    "while numbers >= 1:\n",
    "    print(numbers)\n",
    "    numbers -=1"
   ]
  },
  {
   "cell_type": "markdown",
   "id": "55c1c25c-0745-4dfb-bf37-11e47f1a7047",
   "metadata": {},
   "source": [
    "### Question 8"
   ]
  },
  {
   "cell_type": "code",
   "execution_count": 12,
   "id": "28c79471-3c35-437a-8285-f94867ad5b93",
   "metadata": {},
   "outputs": [
    {
     "name": "stdout",
     "output_type": "stream",
     "text": [
      "10\n",
      "9\n",
      "8\n",
      "7\n",
      "6\n",
      "5\n",
      "4\n",
      "3\n",
      "2\n",
      "1\n"
     ]
    }
   ],
   "source": [
    "numbers =10\n",
    "while numbers >= 1:\n",
    "    print(numbers)\n",
    "    numbers -=1"
   ]
  },
  {
   "cell_type": "code",
   "execution_count": null,
   "id": "287dd973-7ed8-44e0-95b1-f7e3f7b8bb99",
   "metadata": {},
   "outputs": [],
   "source": []
  }
 ],
 "metadata": {
  "kernelspec": {
   "display_name": "Python 3 (ipykernel)",
   "language": "python",
   "name": "python3"
  },
  "language_info": {
   "codemirror_mode": {
    "name": "ipython",
    "version": 3
   },
   "file_extension": ".py",
   "mimetype": "text/x-python",
   "name": "python",
   "nbconvert_exporter": "python",
   "pygments_lexer": "ipython3",
   "version": "3.10.8"
  }
 },
 "nbformat": 4,
 "nbformat_minor": 5
}
