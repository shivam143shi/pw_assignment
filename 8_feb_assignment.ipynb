{
 "cells": [
  {
   "cell_type": "markdown",
   "id": "7ace98b4-2b1d-40e3-856a-a63f79e344f1",
   "metadata": {},
   "source": [
    "### Question 1"
   ]
  },
  {
   "cell_type": "code",
   "execution_count": null,
   "id": "e169af03-48fb-4fff-a006-0459031c6833",
   "metadata": {},
   "outputs": [],
   "source": [
    "Abstraction is a fundamental concept in object-oriented programming (OOP) that refers to the process of hiding complex implementation details and \n",
    "exposing only essential information to the user."
   ]
  },
  {
   "cell_type": "code",
   "execution_count": 6,
   "id": "646a7813-a067-44bc-8ac4-2fa28248d82c",
   "metadata": {},
   "outputs": [
    {
     "name": "stdout",
     "output_type": "stream",
     "text": [
      "Starting the car\n",
      "The current speed of the car is: 60 mph\n",
      "Stopping the car\n"
     ]
    }
   ],
   "source": [
    "# example of abstraction\n",
    "class Car:\n",
    "    def __init__(self, make, model, year, speed):\n",
    "        self.__make = make\n",
    "        self.__model = model\n",
    "        self.__year = year\n",
    "        self.__speed = speed\n",
    "\n",
    "    def start(self):\n",
    "        print(\"Starting the car\")\n",
    "\n",
    "    def stop(self):\n",
    "        print(\"Stopping the car\")\n",
    "\n",
    "    def get_speed(self):\n",
    "        return self.__speed\n",
    "\n",
    "my_car = Car(\"Toyota\", \"Camry\", 2020, 60)\n",
    "my_car.start()\n",
    "print(\"The current speed of the car is:\", my_car.get_speed(), \"mph\")\n",
    "my_car.stop()\n"
   ]
  },
  {
   "cell_type": "markdown",
   "id": "139d8c43-31b3-40fb-9d55-6159c453ae5d",
   "metadata": {},
   "source": [
    "### Question 2"
   ]
  },
  {
   "cell_type": "code",
   "execution_count": null,
   "id": "56945f09-506f-4393-9864-4404c2ec4c75",
   "metadata": {},
   "outputs": [],
   "source": [
    "# abstarction:\n",
    "Abstraction is a fundamental concept in object-oriented programming (OOP) that refers to the process of hiding complex implementation details and \n",
    "exposing only essential information to the user."
   ]
  },
  {
   "cell_type": "code",
   "execution_count": null,
   "id": "371d4416-b5cd-481c-99d3-6349dfdbdead",
   "metadata": {},
   "outputs": [],
   "source": [
    "# encapsulation\n",
    "Encapsulation refers to the process of wrapping data and functions within an object. \n",
    "This helps in hiding the internal details of an object from the outside world and making it accessible only through its public interface"
   ]
  },
  {
   "cell_type": "code",
   "execution_count": 7,
   "id": "01e4da96-7008-4a58-919b-7f359718ae34",
   "metadata": {},
   "outputs": [
    {
     "name": "stdout",
     "output_type": "stream",
     "text": [
      "BMW in Black color\n"
     ]
    }
   ],
   "source": [
    "# exapmle:\n",
    "class Car:\n",
    "    def __init__(self, model, color):\n",
    "        self.__model = model\n",
    "        self.__color = color\n",
    "        \n",
    "    def get_details(self):\n",
    "        return self.__model + \" in \" + self.__color + \" color\"\n",
    "    \n",
    "my_car = Car(\"BMW\", \"Black\")\n",
    "print(my_car.get_details())\n"
   ]
  },
  {
   "cell_type": "markdown",
   "id": "833b1bea-ed25-4888-b675-903e877b1259",
   "metadata": {},
   "source": [
    "### Question 3"
   ]
  },
  {
   "cell_type": "code",
   "execution_count": null,
   "id": "87fc28f8-acf8-464f-8fbb-c6b0aa7936a7",
   "metadata": {},
   "outputs": [],
   "source": [
    "The abc (Abstract Base Class) module in Python is used to define abstract base classes, \n",
    "which can be used to create other classes that have to implement specific methods.\n",
    "An abstract base class is a class that cannot be instantiated, but it can be subclassed."
   ]
  },
  {
   "cell_type": "code",
   "execution_count": null,
   "id": "e829fb78-9a9f-40d2-a25b-ac189371009d",
   "metadata": {},
   "outputs": [],
   "source": [
    "# purpose of using abc\n",
    "The purpose of using abstract base classes is to define a common interface for a set of subclasses, ensuring that all subclasses have certain methods.\n",
    "This helps in creating a uniform and consistent interface for all subclasses, which makes it easier to manage and maintain the code"
   ]
  },
  {
   "cell_type": "code",
   "execution_count": 8,
   "id": "50dba676-77b1-4330-b276-3f3dc9ee975e",
   "metadata": {},
   "outputs": [],
   "source": [
    "import abc\n",
    "\n",
    "class Vehicle(metaclass=abc.ABCMeta):\n",
    "    @abc.abstractmethod\n",
    "    def start(self):\n",
    "        pass\n",
    "    \n",
    "    @abc.abstractmethod\n",
    "    def stop(self):\n",
    "        pass\n",
    "\n",
    "class Car(Vehicle):\n",
    "    def start(self):\n",
    "        print(\"Starting the car...\")\n",
    "    \n",
    "    def stop(self):\n",
    "        print(\"Stopping the car...\")\n",
    "\n"
   ]
  },
  {
   "cell_type": "markdown",
   "id": "aa9c3d15-1b09-4ba3-8c7c-b20fd189696a",
   "metadata": {},
   "source": [
    "### Question 4"
   ]
  },
  {
   "cell_type": "code",
   "execution_count": null,
   "id": "aca09731-2f34-4a53-9377-ebe3c0f1c68c",
   "metadata": {},
   "outputs": [],
   "source": [
    "Data Abstraction can be achieved in several ways:\n",
    "    1-Abstraction using Classes\n",
    "    2-Abstraction using Interfaces\n",
    "    3-Using Access Modifiers\n",
    "The main goal of data abstraction is to hide the complexities and expose only the essential features of a class, \n",
    "making it easier to understand, use and maintain."
   ]
  },
  {
   "cell_type": "markdown",
   "id": "a7fc7b62-4c0a-43bc-ad82-5cd72f94c3a9",
   "metadata": {},
   "source": [
    "### Question 5"
   ]
  },
  {
   "cell_type": "code",
   "execution_count": null,
   "id": "eba10e85-0ba6-467e-a6cb-45c880dcd2ca",
   "metadata": {},
   "outputs": [],
   "source": [
    "No, you cannot create an instance of an abstract class in Python. \n",
    "An abstract class is a blueprint for other classes and cannot be instantiated on its own.\n",
    "The purpose of an abstract class is to provide a common interface for its subclasses, and enforce the implementation of certain methods that are considered abstract or incomplete in the abstract class. \n",
    "To use an abstract class, you need to extend it in a concrete subclass and provide implementations for the abstract methods defined in the abstract class"
   ]
  }
 ],
 "metadata": {
  "kernelspec": {
   "display_name": "Python 3 (ipykernel)",
   "language": "python",
   "name": "python3"
  },
  "language_info": {
   "codemirror_mode": {
    "name": "ipython",
    "version": 3
   },
   "file_extension": ".py",
   "mimetype": "text/x-python",
   "name": "python",
   "nbconvert_exporter": "python",
   "pygments_lexer": "ipython3",
   "version": "3.10.8"
  }
 },
 "nbformat": 4,
 "nbformat_minor": 5
}
