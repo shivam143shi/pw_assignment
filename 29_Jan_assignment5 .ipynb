{
 "cells": [
  {
   "cell_type": "markdown",
   "id": "6fbad4ba-3b75-40ed-be43-ccb7f6771d05",
   "metadata": {},
   "source": [
    "### Question 1"
   ]
  },
  {
   "cell_type": "code",
   "execution_count": null,
   "id": "1b7dbf00-b9e0-4717-ba38-2ef759bb94ea",
   "metadata": {},
   "outputs": [],
   "source": [
    "Python programming language was developed by Guido van Rossum."
   ]
  },
  {
   "cell_type": "markdown",
   "id": "512ea63f-ab48-4bd4-bce5-c21ebd2987db",
   "metadata": {},
   "source": [
    "### Question 2"
   ]
  },
  {
   "cell_type": "markdown",
   "id": "e722898c-4ac0-4c4d-a13e-d5724f5afe03",
   "metadata": {},
   "source": [
    "Python supports object orinted programming languages (OOPs)."
   ]
  },
  {
   "cell_type": "markdown",
   "id": "a8572281-f652-4c2c-86fc-6b25e0bbf50e",
   "metadata": {},
   "source": [
    "### Question 3"
   ]
  },
  {
   "cell_type": "markdown",
   "id": "fc2b969e-b936-4886-9587-869d97462248",
   "metadata": {},
   "source": [
    "Yes python is case sensitive while dealing with identifiers"
   ]
  },
  {
   "cell_type": "markdown",
   "id": "03376725-8686-4182-bb83-6bc0de22008d",
   "metadata": {},
   "source": [
    "### Question 4"
   ]
  },
  {
   "cell_type": "markdown",
   "id": "4d7e00cf-9ca7-44a6-95e0-ec87c42f5c19",
   "metadata": {},
   "source": [
    "The correct extension of python file is  .py  . "
   ]
  },
  {
   "cell_type": "markdown",
   "id": "48cbd2d5-b841-4884-a227-6a642bf851c0",
   "metadata": {},
   "source": [
    "### Question 5"
   ]
  },
  {
   "cell_type": "markdown",
   "id": "bf0e5278-f03e-4f50-8ba7-fd2c9a05b5f6",
   "metadata": {},
   "source": [
    "Pyhton code is interpreted."
   ]
  },
  {
   "cell_type": "markdown",
   "id": "a00527f0-f1db-4a79-ad67-17c27f2bb8fe",
   "metadata": {
    "tags": []
   },
   "source": [
    "### Question 6"
   ]
  },
  {
   "cell_type": "markdown",
   "id": "7d6f8254-43e6-486c-a26d-69c92130c774",
   "metadata": {},
   "source": [
    "Braces{} use to define the block of code in python."
   ]
  },
  {
   "cell_type": "markdown",
   "id": "62a25572-20f8-42cd-8b2b-5989b17bb847",
   "metadata": {},
   "source": [
    "### Question 7"
   ]
  },
  {
   "cell_type": "code",
   "execution_count": null,
   "id": "354c2c32-1002-4391-b300-e5d21c79efe3",
   "metadata": {},
   "outputs": [],
   "source": [
    "# is used to give single line comment in python"
   ]
  },
  {
   "cell_type": "markdown",
   "id": "258be96e-afbb-477d-994a-30b83dc9f36b",
   "metadata": {
    "tags": []
   },
   "source": [
    "### Question 8"
   ]
  },
  {
   "cell_type": "code",
   "execution_count": null,
   "id": "f7f84d0f-9f1b-491d-87b4-bad417a60a30",
   "metadata": {},
   "outputs": [],
   "source": [
    "sys.version"
   ]
  },
  {
   "cell_type": "markdown",
   "id": "64fce96f-34d4-40d4-8f05-ea93d7e76788",
   "metadata": {},
   "source": [
    "### Question 9"
   ]
  },
  {
   "cell_type": "code",
   "execution_count": null,
   "id": "97afd9e0-1909-4af6-a253-75897be18ddd",
   "metadata": {},
   "outputs": [],
   "source": [
    "it uses constructors called \"lamda\" at runtime ."
   ]
  },
  {
   "cell_type": "markdown",
   "id": "26053550-d755-4019-9628-51f7b797f33a",
   "metadata": {},
   "source": [
    "### Question 10"
   ]
  },
  {
   "cell_type": "markdown",
   "id": "5c2d3b4f-44c9-42eb-ae2d-620bd6bb0549",
   "metadata": {},
   "source": [
    "pip stand for \"prefered installer program\""
   ]
  },
  {
   "cell_type": "markdown",
   "id": "26b9b366-908f-431d-9036-b41caebe28e1",
   "metadata": {},
   "source": [
    "### Question 11"
   ]
  },
  {
   "cell_type": "code",
   "execution_count": null,
   "id": "1b3d33d3-f59c-40ae-8f08-09b77175ee01",
   "metadata": {},
   "outputs": [],
   "source": [
    "#some built in functions in pyhton\n",
    "\n",
    "print()\n",
    "type()\n",
    "range()\n",
    "len()\n",
    "int()\n",
    "del()\n",
    "return()\n",
    "sum()"
   ]
  },
  {
   "cell_type": "markdown",
   "id": "b588d17a-f2e5-4799-a3fe-95780817eb15",
   "metadata": {},
   "source": [
    "### Question 12"
   ]
  },
  {
   "cell_type": "markdown",
   "id": "06276e68-5248-49fd-9991-c5e747f59e26",
   "metadata": {},
   "source": [
    "The maximum length for identifier in python is 79."
   ]
  },
  {
   "cell_type": "markdown",
   "id": "a30a419a-210f-4cae-9191-e74b16f09d09",
   "metadata": {
    "tags": []
   },
   "source": [
    "### Question 13"
   ]
  },
  {
   "cell_type": "code",
   "execution_count": null,
   "id": "cb2aad7b-50d2-4ac2-bfc3-ca87fc8b8e50",
   "metadata": {},
   "outputs": [],
   "source": [
    "Benefits of using python - \n",
    "\n",
    "1) It is easy to understand\n",
    "2) It has variety of library \n",
    "3) syntax of pyhton is very easy\n",
    "4) Python supports OOPs\n",
    "5) It is interpreted"
   ]
  },
  {
   "cell_type": "markdown",
   "id": "4dfe6315-93f0-46c1-8307-57445c2e42fd",
   "metadata": {},
   "source": [
    "### Question 14"
   ]
  },
  {
   "cell_type": "markdown",
   "id": "d2765eb8-45e0-4150-a5ac-ea32432eac8d",
   "metadata": {},
   "source": [
    "Python's memory management system combines automatic memory allocation, reference counting, and garbage collection to provide a convenient and efficient way of managing memory. It abstracts low-level memory management details from the programmer, allowing them to focus on writing code rather than worrying about memory allocation and deallocation."
   ]
  },
  {
   "cell_type": "markdown",
   "id": "3b3ca00d-f730-4d43-9da4-672bfe1dbc79",
   "metadata": {},
   "source": [
    "### Question 15"
   ]
  },
  {
   "cell_type": "code",
   "execution_count": null,
   "id": "f7eeb8d1-e083-46f5-8266-e2f8f2e73233",
   "metadata": {},
   "outputs": [],
   "source": [
    "1.Go to python.org\n",
    "2.click on download\n",
    "3.open python.exe file in file manager\n",
    "4.click on install\n",
    "5.tick the option add to path"
   ]
  },
  {
   "cell_type": "markdown",
   "id": "e54f6f87-c05d-456a-bb9e-605fa108ee88",
   "metadata": {},
   "source": [
    "### Question 16"
   ]
  },
  {
   "cell_type": "markdown",
   "id": "53d46e1a-7e2d-4a68-8af2-76aab4345231",
   "metadata": {},
   "source": [
    "yes indentation is very necessary in python because it give error without it."
   ]
  }
 ],
 "metadata": {
  "kernelspec": {
   "display_name": "Python 3 (ipykernel)",
   "language": "python",
   "name": "python3"
  },
  "language_info": {
   "codemirror_mode": {
    "name": "ipython",
    "version": 3
   },
   "file_extension": ".py",
   "mimetype": "text/x-python",
   "name": "python",
   "nbconvert_exporter": "python",
   "pygments_lexer": "ipython3",
   "version": "3.10.8"
  }
 },
 "nbformat": 4,
 "nbformat_minor": 5
}
