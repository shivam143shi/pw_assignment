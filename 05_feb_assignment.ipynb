{
 "cells": [
  {
   "cell_type": "markdown",
   "id": "33a69f0a-b9e0-42ba-a788-ed79ddd4744e",
   "metadata": {},
   "source": [
    "### Question 1"
   ]
  },
  {
   "cell_type": "code",
   "execution_count": null,
   "id": "cef9637c-e89c-4dd1-aa79-c53de6de930c",
   "metadata": {},
   "outputs": [],
   "source": [
    "Q1. Explain Class and Object with respect to Object-Oriented Programming. Give a suitable example."
   ]
  },
  {
   "cell_type": "markdown",
   "id": "8c78f8bc-6bce-4d94-b50b-57109c717d76",
   "metadata": {},
   "source": [
    "In resprct to OOP(object oriented programming),\n",
    "\n",
    "class- class is a blueprint of an object that defines its behaviour and structure.\n",
    "object - Object use to create multiple objects of the same type of class.\n"
   ]
  },
  {
   "cell_type": "code",
   "execution_count": 6,
   "id": "0a0a4a12-5b72-49a5-8134-d736ebf43c22",
   "metadata": {},
   "outputs": [
    {
     "name": "stdout",
     "output_type": "stream",
     "text": [
      "The black BMW car's is starting.\n",
      "black\n"
     ]
    }
   ],
   "source": [
    "## example\n",
    "\n",
    "class Car :\n",
    "    \n",
    "    def __init__ (self,colour,brand):\n",
    "        self.brand=brand\n",
    "        self.colour=colour\n",
    "        \n",
    "    def start_engine(self):\n",
    "        print(f\"The {self.colour} {self.brand} car's is starting.\")\n",
    "        \n",
    "    def stop_engine(self):\n",
    "        print(f\"The {self.colour} {self.brand} car's is stopped.\")\n",
    "        \n",
    "car1= Car (\"black\", \"BMW\")\n",
    "car2= Car (\"white\" , \"Toyota\")\n",
    "\n",
    "car1.start_engine()\n",
    "              \n",
    "print(car1.colour)         "
   ]
  },
  {
   "cell_type": "markdown",
   "id": "45f039c6-b996-42f4-ad37-2527caaba071",
   "metadata": {},
   "source": [
    "### Question 2"
   ]
  },
  {
   "cell_type": "markdown",
   "id": "327b8c6b-31fc-4782-a185-f5f9e2536214",
   "metadata": {},
   "source": [
    "The four pillars of OOPs are-\n",
    "\n",
    "1) Encapsulation\n",
    "2) Inheritance\n",
    "3) Polymorphism\n",
    "4) Abstraction"
   ]
  },
  {
   "cell_type": "markdown",
   "id": "01ddbda9-a4c3-4688-80b6-9ea336cb0137",
   "metadata": {},
   "source": [
    "### Question 3"
   ]
  },
  {
   "cell_type": "markdown",
   "id": "f5e487d2-bc56-4d2b-8757-cd990f676929",
   "metadata": {},
   "source": [
    "The __init__() function is called automatically every time the class is being used to create a new object.\n",
    "It is also called constructor."
   ]
  },
  {
   "cell_type": "code",
   "execution_count": 11,
   "id": "c8fcfe63-2fa7-4541-bd7a-a420a3a7d495",
   "metadata": {},
   "outputs": [
    {
     "name": "stdout",
     "output_type": "stream",
     "text": [
      "The Diamond is very old and expensive.\n",
      "expensive\n"
     ]
    }
   ],
   "source": [
    "## example \n",
    "\n",
    "class Museum :\n",
    "    def __init__ (self,object1,type1):\n",
    "        \n",
    "        self.object1 = object1\n",
    "        self.type1 = type1\n",
    "        \n",
    "    def value (self):\n",
    "        print (f\"The {self.object1} is very old and {self.type1}.\")\n",
    "        \n",
    "object2= Museum(\"Diamond\",\"expensive\")\n",
    "    \n",
    "object2.value()\n",
    "\n",
    "print(object2.type1)"
   ]
  },
  {
   "cell_type": "markdown",
   "id": "f7d52d02-12a9-402d-ade2-b7c9352239ca",
   "metadata": {},
   "source": [
    "### Question 4"
   ]
  },
  {
   "cell_type": "markdown",
   "id": "ed1f32bf-bfc6-4a9c-9bb5-9e51cbdb7417",
   "metadata": {},
   "source": [
    "The self parameter allows you to access and manipulate the attributes and methods of the current object within the class definition. When a method is called on an object, the object itself is automatically passed as the self argument to that method."
   ]
  },
  {
   "cell_type": "markdown",
   "id": "acac1e16-39fe-4161-bd25-e323e4778ee3",
   "metadata": {},
   "source": [
    "### Question 5"
   ]
  },
  {
   "cell_type": "markdown",
   "id": "8d77d2ce-b12c-42b3-9d2e-40a26369cc14",
   "metadata": {},
   "source": [
    "What is inheritance? Give an example for each type of inheritance."
   ]
  },
  {
   "cell_type": "markdown",
   "id": "18d1c0d8-ec98-4d08-ae68-88cba1d4884b",
   "metadata": {},
   "source": [
    "Inheritance - Inheritance is a fundamental concept in object-oriented programming (OOP) that allows a class to acquire properties (attributes and methods) from another class. The class being inherited from is called the superclass or base class, while the class inheriting from it is called the subclass or derived class.\n",
    "it also provide the class to reusability."
   ]
  },
  {
   "cell_type": "code",
   "execution_count": 12,
   "id": "f4ad7b96-4373-4926-82b1-1e63219eff47",
   "metadata": {},
   "outputs": [
    {
     "name": "stdout",
     "output_type": "stream",
     "text": [
      "John is a Professor\n"
     ]
    }
   ],
   "source": [
    "# 1.Single inheritance\n",
    "#Example:\n",
    "class Person:\n",
    "\n",
    "    def __init__(self, name, age):\n",
    "        self.name = name\n",
    "        self.age = age\n",
    "\n",
    "class Professor(Person):\n",
    "\n",
    "    def isProfessor(self):\n",
    "        return f\"{self.name} is a Professor\"\n",
    "\n",
    "sir = Professor(\"John\", 30)\n",
    "\n",
    "print(sir.isProfessor())"
   ]
  },
  {
   "cell_type": "code",
   "execution_count": 13,
   "id": "c5a62a8a-bc9d-4941-8316-475ff080cf96",
   "metadata": {},
   "outputs": [
    {
     "name": "stdout",
     "output_type": "stream",
     "text": [
      "8\n"
     ]
    }
   ],
   "source": [
    "# 2.Multiple inheritance\n",
    "\n",
    "\n",
    "class SuperClass1:\n",
    "    num1 = 3\n",
    "\n",
    "class SuperClass2:\n",
    "    num2 = 5\n",
    "\n",
    "class SubClass( SuperClass1, SuperClass2):\n",
    "    def addition(self):\n",
    "        return self.num1 + self.num2\n",
    "\n",
    "obj = SubClass()\n",
    "print(obj.addition()) "
   ]
  },
  {
   "cell_type": "code",
   "execution_count": 14,
   "id": "6abe1e92-18d8-4e78-b75e-7f8d1f55d310",
   "metadata": {},
   "outputs": [
    {
     "name": "stdout",
     "output_type": "stream",
     "text": [
      "PythonGeeks\n"
     ]
    }
   ],
   "source": [
    "# 3.Multilevel inheritance\n",
    "\n",
    "class Parent:\n",
    "    str1 = \"Python\"\n",
    "\n",
    "class Child(Parent):\n",
    "    str2 = \"Geeks\"\n",
    "\n",
    "class GrandChild(Child):\n",
    "\n",
    "    def get_str(self):\n",
    "        print(self.str1 + self.str2)\n",
    "\n",
    "person = GrandChild()\n",
    "person.get_str()"
   ]
  },
  {
   "cell_type": "code",
   "execution_count": 16,
   "id": "d37c3567-b681-4c03-9a8e-a9e8ef7f779f",
   "metadata": {},
   "outputs": [
    {
     "name": "stdout",
     "output_type": "stream",
     "text": [
      "Driving the vehicle\n",
      "Parking the car\n"
     ]
    },
    {
     "data": {
      "text/plain": [
       "<bound method Vehicle.drive of <__main__.Truck object at 0x7fa4d92a3730>>"
      ]
     },
     "execution_count": 16,
     "metadata": {},
     "output_type": "execute_result"
    }
   ],
   "source": [
    "# 4.Hierarchical inheritance\n",
    "class Vehicle:\n",
    "    def drive(self):\n",
    "        print(\"Driving the vehicle\")\n",
    "\n",
    "\n",
    "class Car(Vehicle):\n",
    "    def park(self):\n",
    "        print(\"Parking the car\")\n",
    "\n",
    "\n",
    "class Truck(Vehicle):\n",
    "    def load(self):\n",
    "        print(\"Loading the truck\")\n",
    "\n",
    "\n",
    "car = Car()\n",
    "car.drive()  \n",
    "car.park()  \n",
    "\n",
    "truck = Truck()\n",
    "truck.drive\n"
   ]
  },
  {
   "cell_type": "code",
   "execution_count": null,
   "id": "29650423-e13a-4cb6-8eca-c26651c38733",
   "metadata": {},
   "outputs": [],
   "source": []
  }
 ],
 "metadata": {
  "kernelspec": {
   "display_name": "Python 3 (ipykernel)",
   "language": "python",
   "name": "python3"
  },
  "language_info": {
   "codemirror_mode": {
    "name": "ipython",
    "version": 3
   },
   "file_extension": ".py",
   "mimetype": "text/x-python",
   "name": "python",
   "nbconvert_exporter": "python",
   "pygments_lexer": "ipython3",
   "version": "3.10.8"
  }
 },
 "nbformat": 4,
 "nbformat_minor": 5
}
