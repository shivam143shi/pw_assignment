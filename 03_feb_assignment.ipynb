{
 "cells": [
  {
   "cell_type": "markdown",
   "id": "f61dbdb4-0f23-465c-bdbf-78750d1e8f6a",
   "metadata": {},
   "source": [
    "### Question 1"
   ]
  },
  {
   "cell_type": "markdown",
   "id": "d0a3057a-37aa-42c3-a62d-db80780c4649",
   "metadata": {},
   "source": [
    "\"Def\" keyboard is used to create a function"
   ]
  },
  {
   "cell_type": "code",
   "execution_count": 29,
   "id": "e704863f-66f3-4786-9d3e-fbb78b3f329b",
   "metadata": {},
   "outputs": [
    {
     "name": "stdout",
     "output_type": "stream",
     "text": [
      "[1, 3, 5, 7, 9, 11, 13, 15, 17, 19, 21, 23]\n"
     ]
    }
   ],
   "source": [
    "odd_numbers = [num for num in range(1, 25) if num % 2 != 0]\n",
    "print(odd_numbers)"
   ]
  },
  {
   "cell_type": "markdown",
   "id": "adcebf28-ccdf-4a56-9059-3ad53886b919",
   "metadata": {},
   "source": [
    "### Question2"
   ]
  },
  {
   "cell_type": "markdown",
   "id": "5b7a1649-44ff-4e09-9da3-406eb86959b8",
   "metadata": {},
   "source": [
    "*args- *args is a special syntax used in function to accept any number of positional arguments. In the function, we should use an asterisk (*) before the parameter name to pass a variable number of arguments."
   ]
  },
  {
   "cell_type": "code",
   "execution_count": 20,
   "id": "3a7fc6f4-51cb-49b3-a50a-91905b387b17",
   "metadata": {},
   "outputs": [
    {
     "data": {
      "text/plain": [
       "(2, 3)"
      ]
     },
     "execution_count": 20,
     "metadata": {},
     "output_type": "execute_result"
    }
   ],
   "source": [
    "def add(*args):\n",
    "    return args\n",
    "\n",
    "add(2, 3)"
   ]
  },
  {
   "cell_type": "markdown",
   "id": "7c5607fa-0de2-407d-b18b-e5d3be094ff8",
   "metadata": {},
   "source": [
    "**kwargs- **kwargs syntax is used to pass a variable number of keyword arguments to a function. It allows you to pass any number of keyword arguments, and they are received as a dictionary within the function.In the function, we use the double-asterisk (**) before the parameter name to denote this type of argument."
   ]
  },
  {
   "cell_type": "code",
   "execution_count": 19,
   "id": "380e4aef-3d12-4057-b253-1070a09ba438",
   "metadata": {},
   "outputs": [
    {
     "data": {
      "text/plain": [
       "{'banana': 5, 'mango': 7, 'apple': 8}"
      ]
     },
     "execution_count": 19,
     "metadata": {},
     "output_type": "execute_result"
    }
   ],
   "source": [
    "def total_fruits(**kwargs):\n",
    "    return kwargs\n",
    "\n",
    "\n",
    "total_fruits(banana=5, mango=7, apple=8)"
   ]
  },
  {
   "cell_type": "markdown",
   "id": "4bc75a90-9827-45a6-80e3-1e89554e7e12",
   "metadata": {},
   "source": [
    "### Question 3"
   ]
  },
  {
   "cell_type": "markdown",
   "id": "9a7402c9-721f-4d84-820e-7acf3dbafa8b",
   "metadata": {},
   "source": [
    "\"Iterator\"- An interator in a function allows us to traverse the elements sequentially one by one.\n",
    "The __iter__() method is used to initialize the iterator object. It returns the iterator object itself."
   ]
  },
  {
   "cell_type": "code",
   "execution_count": 23,
   "id": "591effac-24bf-4d0e-acbf-9d9e277f2c19",
   "metadata": {},
   "outputs": [
    {
     "name": "stdout",
     "output_type": "stream",
     "text": [
      "2\n",
      "4\n",
      "6\n",
      "8\n",
      "10\n"
     ]
    }
   ],
   "source": [
    "lst = [2, 4, 6, 8, 10, 12, 14, 16, 18, 20]\n",
    "\n",
    "iter_obj = iter(lst)\n",
    "\n",
    "for _ in range(5):\n",
    "    element = next(iter_obj)\n",
    "    print(element)\n"
   ]
  },
  {
   "cell_type": "markdown",
   "id": "b66f4615-4808-4546-a8d5-4c00942f62c4",
   "metadata": {},
   "source": [
    "### Question 4"
   ]
  },
  {
   "cell_type": "code",
   "execution_count": null,
   "id": "20643bdd-4318-4abd-8942-cd0e57fb1c12",
   "metadata": {},
   "outputs": [],
   "source": [
    "What is a generator function in python? Why yield keyword is used? Give an example of a generator\n",
    "function."
   ]
  },
  {
   "cell_type": "markdown",
   "id": "0aad10ad-2dc4-4a1f-b5c0-83d42b76e715",
   "metadata": {},
   "source": [
    "Pyhton generator function is used to generate a function that behaves like iterator function. \n",
    "\n",
    "yield keyboard is used to generate a generator function.A type of function that is memory efficient and can be used like an iterator object."
   ]
  },
  {
   "cell_type": "code",
   "execution_count": 25,
   "id": "a6678c60-cd41-459c-a9d8-0d684b56488e",
   "metadata": {},
   "outputs": [
    {
     "name": "stdout",
     "output_type": "stream",
     "text": [
      "0\n",
      "1\n",
      "4\n",
      "9\n",
      "16\n"
     ]
    }
   ],
   "source": [
    "def squares(n):\n",
    "    for i in range(n):\n",
    "        yield i**2\n",
    "\n",
    "for square in squares(5):\n",
    "    print(square)"
   ]
  },
  {
   "cell_type": "markdown",
   "id": "dfa618e3-ec43-4846-aa5e-b6cf74f705d8",
   "metadata": {},
   "source": [
    "### Question 5"
   ]
  },
  {
   "cell_type": "code",
   "execution_count": 27,
   "id": "0b507362-e7d8-42de-be05-4e70cf35c81a",
   "metadata": {},
   "outputs": [
    {
     "name": "stdout",
     "output_type": "stream",
     "text": [
      "2\n",
      "3\n",
      "5\n",
      "7\n",
      "11\n",
      "13\n",
      "17\n",
      "19\n",
      "23\n",
      "29\n",
      "31\n",
      "37\n",
      "41\n",
      "43\n",
      "47\n",
      "53\n",
      "59\n",
      "61\n",
      "67\n",
      "71\n"
     ]
    }
   ],
   "source": [
    "def primes():\n",
    "    yield 2\n",
    "    primes = [2]\n",
    "    candidate = 3\n",
    "    while candidate < 1000:\n",
    "        is_prime = True\n",
    "        for prime in primes:\n",
    "            if candidate % prime == 0:\n",
    "                is_prime = False\n",
    "                break\n",
    "        if is_prime:\n",
    "            primes.append(candidate)\n",
    "            yield candidate\n",
    "        candidate += 2\n",
    "\n",
    "gen = primes()\n",
    "for i in range(20):\n",
    "    print(next(gen))"
   ]
  },
  {
   "cell_type": "markdown",
   "id": "dde4a0f9-d9b7-411c-9be8-ec836b4d5956",
   "metadata": {},
   "source": [
    "### Question 6"
   ]
  },
  {
   "cell_type": "code",
   "execution_count": 28,
   "id": "cb2d38fc-9c09-459e-9dfc-46f511948167",
   "metadata": {},
   "outputs": [
    {
     "name": "stdout",
     "output_type": "stream",
     "text": [
      "0\n",
      "1\n",
      "1\n",
      "2\n",
      "3\n",
      "5\n",
      "8\n",
      "13\n",
      "21\n",
      "34\n"
     ]
    }
   ],
   "source": [
    "def fibonacci():\n",
    "    a, b = 0, 1\n",
    "    while True:\n",
    "        yield a\n",
    "        a, b = b, a + b\n",
    "\n",
    "gen = fibonacci()\n",
    "for i in range(10):\n",
    "    print(next(gen))"
   ]
  },
  {
   "cell_type": "markdown",
   "id": "329c8336-5589-483a-93e2-9c83dd4e5208",
   "metadata": {},
   "source": [
    "### Question 7"
   ]
  },
  {
   "cell_type": "code",
   "execution_count": 1,
   "id": "313a63f4-36a5-481a-a5f5-e2dd8df444ca",
   "metadata": {},
   "outputs": [
    {
     "name": "stdout",
     "output_type": "stream",
     "text": [
      "['p', 'w', 's', 'k', 'i', 'l', 'l', 's']\n"
     ]
    }
   ],
   "source": [
    "string = 'pwskills'\n",
    "output = [char for char in string]\n",
    "print(output)\n",
    "\n"
   ]
  },
  {
   "cell_type": "markdown",
   "id": "a572da75-73a0-4ad1-8c60-4ed415cc1970",
   "metadata": {},
   "source": [
    "### Question 8"
   ]
  },
  {
   "cell_type": "code",
   "execution_count": 17,
   "id": "eb22db52-0ae2-41af-add8-67aaec2aac4a",
   "metadata": {},
   "outputs": [
    {
     "name": "stdin",
     "output_type": "stream",
     "text": [
      "Enter a number:  1024\n"
     ]
    },
    {
     "name": "stdout",
     "output_type": "stream",
     "text": [
      "1024 is not a palindrome\n"
     ]
    }
   ],
   "source": [
    "def is_palindrome(number):\n",
    "    temp = number\n",
    "    reverse = 0\n",
    "\n",
    "    while temp > 0:\n",
    "        digit = temp % 10\n",
    "        reverse = (reverse * 10) + digit\n",
    "        temp = temp // 10\n",
    "\n",
    "    if number == reverse:\n",
    "        return True\n",
    "    else:\n",
    "        return False\n",
    "\n",
    "# Example usage\n",
    "num = int(input(\"Enter a number: \"))\n",
    "\n",
    "if is_palindrome(num):\n",
    "    print(num, \"is a palindrome\")\n",
    "else:\n",
    "    print(num, \"is not a palindrome\")\n"
   ]
  },
  {
   "cell_type": "markdown",
   "id": "cc347d15-35b5-4125-90a5-b432a0028bd8",
   "metadata": {},
   "source": [
    "### Question 9"
   ]
  },
  {
   "cell_type": "code",
   "execution_count": 26,
   "id": "5c537dee-79b7-4196-ae2b-037711532d5c",
   "metadata": {},
   "outputs": [
    {
     "name": "stdout",
     "output_type": "stream",
     "text": [
      "[1, 3, 5, 7, 9, 11, 13, 15, 17, 19, 21, 23, 25, 27, 29, 31, 33, 35, 37, 39, 41, 43, 45, 47, 49, 51, 53, 55, 57, 59, 61, 63, 65, 67, 69, 71, 73, 75, 77, 79, 81, 83, 85, 87, 89, 91, 93, 95, 97, 99]\n"
     ]
    }
   ],
   "source": [
    "odd_numbers = [num for num in range(1, 101) if num % 2 != 0]\n",
    "print(odd_numbers)\n"
   ]
  },
  {
   "cell_type": "code",
   "execution_count": null,
   "id": "91a476ce-7c01-4af3-a6ec-4180ff1483b9",
   "metadata": {},
   "outputs": [],
   "source": []
  }
 ],
 "metadata": {
  "kernelspec": {
   "display_name": "Python 3 (ipykernel)",
   "language": "python",
   "name": "python3"
  },
  "language_info": {
   "codemirror_mode": {
    "name": "ipython",
    "version": 3
   },
   "file_extension": ".py",
   "mimetype": "text/x-python",
   "name": "python",
   "nbconvert_exporter": "python",
   "pygments_lexer": "ipython3",
   "version": "3.10.8"
  }
 },
 "nbformat": 4,
 "nbformat_minor": 5
}
